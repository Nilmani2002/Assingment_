{
 "cells": [
  {
   "cell_type": "code",
   "execution_count": null,
   "id": "c4d2b986-ec11-4f15-a27f-22a662c0cc4f",
   "metadata": {},
   "outputs": [],
   "source": [
    "# Assignment"
   ]
  },
  {
   "cell_type": "code",
   "execution_count": null,
   "id": "61dfc3d0-c2ec-4d48-81c1-7b60e54ab712",
   "metadata": {},
   "outputs": [],
   "source": [
    "# Q1. What is a database? Differentiate between SQL and NoSQL databases. \n",
    " A database refers to a collection of logically related information organized \n",
    "so that it can be easily accessible, managed, and updated. Databases are generally\n",
    "accessed electronically from a computer system and are usually controlled by a\n",
    "database management system (DBMS). \n",
    "\n",
    "# Differentiate between SQL and NoSQL databases.\n",
    "SQL databases are relational, and NoSQL databases are non-relational.\n",
    "SQL databases use structured query language (SQL) and have a predefined schema. NoSQL databases have dynamic schemas for unstructured data.\n",
    "SQL databases are vertically scalable, while NoSQL databases are horizontally scalable.\n",
    "SQL databases are table-based, while NoSQL databases are document, key-value, graph, or wide-column stores.\n",
    "SQL databases are better for multi-row transactions, while NoSQL is better for unstructured data like documents or JSON."
   ]
  },
  {
   "cell_type": "code",
   "execution_count": null,
   "id": "3667a19f-1590-4826-807d-2abbe5ddcb4b",
   "metadata": {},
   "outputs": [],
   "source": [
    "# Q2. What is DDL? Explain why CREATE, DROP, ALTER, and TRUNCATE are used with an example.\n",
    "Data Definition Language (DDL) is used to create and modify the structure of objects in \n",
    "a database using predefined commands and a specific syntax. these database objects include\n",
    "tables, sequences, locations, aliases, schemas and indexes.\n",
    "\n",
    "CREATE: This command is used to create a new table in SQL. The user has to give information like table name,\n",
    "column names, and their datatypes.\n",
    "\n",
    "ALTER : This command is used to add, delete or change columns in the existing table. The user needs to know the existing\n",
    "table name and can do add, delete or modify tasks easily.\n",
    "\n",
    "TRUNCATE: This command is used to remove all rows from the table, but the structure of the table still exists.\n",
    "\n",
    "DROP : This command is used to remove an existing table along with its structure from the Database."
   ]
  },
  {
   "cell_type": "code",
   "execution_count": null,
   "id": "1416e002-1f90-466a-86d4-da818e49bb21",
   "metadata": {},
   "outputs": [],
   "source": [
    "# Q3. What is DML? Explain INSERT, UPDATE, and DELETE with an example.\n",
    "DML stands for Data Manipulation Language. Tables and formulas are helpful\n",
    "when communicating with data stored up to a point in a database through SQL\n",
    "(Structured Query Language), but a time comes when we actually want to execute\n",
    "some fairly complicated data interactions. We will also need the Data Manipulation\n",
    "Language in that situation. DML is a way to inform a database precisely what we\n",
    "want it to do by conversing in a manner that it has been built to comprehend from\n",
    "scratch. When it comes to interacting with existing data, whether adding, moving,\n",
    "or deleting data, it provides a convenient way to do so.  \n",
    "# The INSERT statement introduces new rows into an existing table.\n",
    "# The DELETE statement removes a row or combination of rows from a table.\n",
    "# The UPDATE statement enables users to update a row or group of rows in a table.\n"
   ]
  },
  {
   "cell_type": "code",
   "execution_count": null,
   "id": "1a2e8312-21d4-4fe9-a44b-783082d2d884",
   "metadata": {},
   "outputs": [],
   "source": [
    "# 4. What is DQL? Explain SELECT with an example.\n",
    "DQL statements are employed to conduct inquiries on the\n",
    "information contained in schema objects. The main purpose\n",
    "of the DQL command is to provide a schema according to the\n",
    "query written.\n",
    "    \n",
    "# SELECT :\n",
    "The most utilized SQL statement is select. Data from a \n",
    "database can be retrieved or fetched using the SELECT \n",
    "Statement in SQL. Either the entire table or a subset \n",
    "of it can be retrieved. A result table contains the data \n",
    "that was returned. The result set also refers to this result\n",
    "table. In the SELECT command, either we can show all the columns,\n",
    "or we can get some specific columns in the result of the query \n",
    "according to the clause we use in the statement. The SELECT \n",
    "statement is analyzed by the database server, and it is determined \n",
    "which one is the first clause and which one is the last. This analysis\n",
    "is very much needed because we have to be very cautious about which \n",
    "column should be included in the result and which one should not be included."
   ]
  },
  {
   "cell_type": "code",
   "execution_count": null,
   "id": "145c0da4-d759-46b3-9ba1-7e99a70be2d5",
   "metadata": {},
   "outputs": [],
   "source": [
    "# Q5. Explain Primary Key and Foreign Key.\n",
    "Primary Key: A primary key is used to ensure that data in the specific column is unique.\n",
    "A column cannot have NULL values. It is either an existing table column or a column that\n",
    "is specifically generated by the database according to a defined sequence.\n",
    "\n",
    "Foreign Key: A foreign key is a column or group of columns in a relational database table\n",
    "that provides a link between data in two tables. It is a column (or columns) that references\n",
    "a column (most often the primary key) of another table. "
   ]
  },
  {
   "cell_type": "code",
   "execution_count": null,
   "id": "8be478d4-0065-4e39-8646-b9deb67eed5a",
   "metadata": {},
   "outputs": [],
   "source": [
    "# Q6. Write a python code to connect MySQL to python. Explain the cursor() and execute() method.\n",
    "import mysql.connector  \n",
    "  \n",
    "#Create the connection object   \n",
    "myconn = mysql.connector.connect(host = \"localhost\", user = \"root\",passwd = \"google\")  \n",
    "  \n",
    "#printing the connection object   \n",
    "print(myconn)\n",
    "\n",
    "Cursor:  it  is a Temporary Memory or Temporary Work Station. It is Allocated by Database Server at the Time\n",
    "of Performing DML(Data Manipulation Language) operations on the Table by the User. Cursors are used to \n",
    "store Database Tables.\n",
    "\n",
    "execute : the execute( ) method returns a boolean true to indicate that a result set is available"
   ]
  },
  {
   "cell_type": "code",
   "execution_count": null,
   "id": "7aec954c-dec3-40b7-998e-a6a5553f5953",
   "metadata": {},
   "outputs": [],
   "source": [
    "# Q7. Give the order of execution of SQL clauses in an SQL query.\n",
    "The order of execution of SQL Query optimizes the query, reduces the amount of data\n",
    "to be processed, and affects the performance of the Query processing significantly. \n",
    "The order makes the SQL engine process the queries faster, and efficiently and obtains\n",
    "optimized query results. Understanding this SQL query execution order helps to debug the\n",
    "code, write efficient queries, and trace the output of SQL accurately.\n",
    "\n",
    "# SELECT customer_ID, SUM(total_amount) AS “Total”\n",
    "# FROM orders\n",
    "# WHERE order_date BETWEEN ‘2022-01-01’ AND ‘2022-03-31’\n",
    "# AND customer_city = ‘New York’\n",
    "# GROUP BY customer_id\n",
    "# ORDER BY Total DESC;"
   ]
  }
 ],
 "metadata": {
  "kernelspec": {
   "display_name": "Python 3 (ipykernel)",
   "language": "python",
   "name": "python3"
  },
  "language_info": {
   "codemirror_mode": {
    "name": "ipython",
    "version": 3
   },
   "file_extension": ".py",
   "mimetype": "text/x-python",
   "name": "python",
   "nbconvert_exporter": "python",
   "pygments_lexer": "ipython3",
   "version": "3.12.2"
  }
 },
 "nbformat": 4,
 "nbformat_minor": 5
}
